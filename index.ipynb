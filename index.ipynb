{
 "cells": [
  {
   "cell_type": "markdown",
   "metadata": {},
   "source": [
    "# Sampling Statistics - Lab\n",
    "\n",
    "## Introduction\n",
    "\n",
    "Typically, we don't know statistics about a population itself. The only way to know these for sure is to survey the entirety of the population, which is typically impractical. For example, to know the true salary mean of individuals in the United States, we would have to survey each and every individual.\n",
    "\n",
    "In lieu of being able to know the true underlying population statistics, we estimate them. Point estimates are estimates of population parameters based on sample data. For instance, if we wanted to know the average age of registered voters in the U.S., we could take a survey of registered voters and then use the average age of the respondents as a point estimate of the average age of the population as a whole. \n",
    "\n",
    "The average of a sample is known as the sample mean. Sampling distribution can be thought of as relative frequency distribution with a large number of samples. A relative frequency distribution tends to approach the sampling distribution as the number of samples increase.\n",
    "\n",
    "## Objectives\n",
    "You will be able to:\n",
    "\n",
    "* Calculate and interpret sampling error\n",
    "* Explain how sample size is related to sampling error\n",
    "* Explain how the sampling error is related to population standard deviation\n",
    "\n",
    "## Background and Terminologies \n",
    "\n",
    "In order to learn the **population mean**, we don't measure the whole population. Instead, we take a random sample and use **sample mean, ( x_bar or $\\bar{x}$ )** to estimate the population mean **( mu or $\\mu$ )**. The sample mean is usually not exactly the same as the population mean and depends upon the values of samples chosen, however, the population mean remains fixed. While using the **sample mean** to estimate the population mean, we come across the **sampling error**, which directly relates to the **standard deviation** of a sampling statistic (e.g. mean values). This difference can be caused by many factors including poor survey design, biased sampling methods, and the randomness inherent to drawing a sample from a population.\n",
    "\n",
    "Let's learn about these concepts through an example."
   ]
  },
  {
   "cell_type": "markdown",
   "metadata": {},
   "source": [
    ">**Pumpkin Weights**\n",
    "\n",
    ">The population is the weight of six pumpkins (in pounds) displayed in a carnival \"Guess the Weight\" game booth. You are asked to guess the average weight of the six pumpkins by picking two pumpkins at a time randomly until all pumpkins have been used.\n",
    "\n",
    "| Pumpkin | Weight (in pounds) |\n",
    "|---------|--------------------|\n",
    "| A       |       19           |\n",
    "| B       |       14           |\n",
    "| C       |       15           |\n",
    "| D       |       9            |\n",
    "| E       |       10           |\n",
    "| F       |       17           |"
   ]
  },
  {
   "cell_type": "markdown",
   "metadata": {},
   "source": [
    "## Step 1\n",
    "\n",
    "Let's calculate the population mean first, which we calculate as:\n",
    "\n",
    "**$\\large \\mu = \\frac{\\text{sum of all elements}}{N}$**, where N is population size."
   ]
  },
  {
   "cell_type": "code",
   "execution_count": 89,
   "metadata": {},
   "outputs": [],
   "source": [
    "# Import necessary libraries\n",
    "import numpy as np\n",
    "from collections import Counter\n",
    "import matplotlib.pyplot as plt\n",
    "import itertools\n",
    "import seaborn as sns\n",
    "from fractions import Fraction"
   ]
  },
  {
   "cell_type": "markdown",
   "metadata": {},
   "source": [
    "Create two lists, one with pumpkin names and one with the respective pumpkin weights. Combine the lists to create a pumpkin directory with the pumpkin names as keys and the pumpkin weights as values. "
   ]
  },
  {
   "cell_type": "code",
   "execution_count": 62,
   "metadata": {},
   "outputs": [
    {
     "name": "stdout",
     "output_type": "stream",
     "text": [
      "{'A': 19, 'B': 14, 'C': 15, 'D': 9, 'E': 10, 'F': 17}\n"
     ]
    }
   ],
   "source": [
    "# Create two lists with pumpkin names and weights\n",
    "\n",
    "pumpkin = [\"A\", \"B\", \"C\", \"D\", \"E\", \"F\"]\n",
    "weights = [19, 14, 15, 9, 10, 17]\n",
    "\n",
    "# Combine both lists to create a dictionary\n",
    "\n",
    "pumpkin_dict = dict(zip(pumpkin, weights))\n",
    "\n",
    "print (pumpkin_dict)\n",
    "\n",
    "#{'A': 19, 'B': 14, 'C': 15, 'D': 9, 'E': 10, 'F': 17}\n"
   ]
  },
  {
   "cell_type": "markdown",
   "metadata": {},
   "source": [
    "Now, let's try to calculate the mean of the pumpkin population and also visualize the weight distribution. "
   ]
  },
  {
   "cell_type": "code",
   "execution_count": 63,
   "metadata": {},
   "outputs": [
    {
     "data": {
      "text/plain": [
       "14.0"
      ]
     },
     "execution_count": 63,
     "metadata": {},
     "output_type": "execute_result"
    }
   ],
   "source": [
    "# Calculate the population mean from pumpkin_dict\n",
    "\n",
    "def calculate_mu(x):\n",
    "\n",
    "    # Use the formula for mu given above\n",
    "    l = x.values()\n",
    "    d = sum(l)/len(l)\n",
    "\n",
    "    return (d)   \n",
    "\n",
    "mu = calculate_mu(pumpkin_dict)\n",
    "mu\n",
    "\n",
    "# 14.0"
   ]
  },
  {
   "cell_type": "markdown",
   "metadata": {},
   "source": [
    "That was a pretty a straightforward exercise. Let's use the data we have so far to visualize the weights of individual pumpkins and mean weight. "
   ]
  },
  {
   "cell_type": "code",
   "execution_count": 64,
   "metadata": {},
   "outputs": [
    {
     "data": {
      "image/png": "[encoded data removed]",
      "text/plain": [
       "<Figure size 432x288 with 1 Axes>"
      ]
     },
     "metadata": {
      "needs_background": "light"
     },
     "output_type": "display_data"
    }
   ],
   "source": [
    "# Plot a bar graph showing weights of pumpkins and highlight the mean weight\n",
    "\n",
    "plt.bar(x = pumpkin_dict.keys(),height = pumpkin_dict.values())\n",
    "\n",
    "plt.axhline(y = calculate_mu(pumpkin_dict)\n",
    "            , color='r'\n",
    "            , linestyle='-' \n",
    "            , label = \"Mean weight:\" + str(mu));\n",
    "plt.legend();\n",
    "plt.show();"
   ]
  },
  {
   "cell_type": "markdown",
   "metadata": {},
   "source": [
    "We can see only one pumpkin has a weight which is equal to the mean weight (B:14). Let's try to simulate the random sampling process as stated below. "
   ]
  },
  {
   "cell_type": "markdown",
   "metadata": {},
   "source": [
    "## Step 2 : Calculate the mean of samples\n",
    "\n",
    "From the `pumpkin_dict`, we can now obtain the sampling distributions of the sample mean for a given sample size. We'll do this while sampling *without* replacement (to reflect the idea that one can have two pumpkins at a given time, and will be taken out of population once used). \n",
    "\n",
    "Let's also try to make the code more flexible to allow sampling of any number of pumpkins from the population to study the effect of the sample size on the sample mean. "
   ]
  },
  {
   "cell_type": "markdown",
   "metadata": {},
   "source": [
    "To achieve this, first, we need to identify all the possible combinations that can be observed by choosing 2 pumpkins from the population, following the game rule."
   ]
  },
  {
   "cell_type": "code",
   "execution_count": 65,
   "metadata": {},
   "outputs": [
    {
     "name": "stdout",
     "output_type": "stream",
     "text": [
      "[('A', 'B'), ('A', 'C'), ('A', 'D'), ('A', 'E'), ('A', 'F'), ('B', 'C'), ('B', 'D'), ('B', 'E'), ('B', 'F'), ('C', 'D'), ('C', 'E'), ('C', 'F'), ('D', 'E'), ('D', 'F'), ('E', 'F')]\n"
     ]
    }
   ],
   "source": [
    "# Identify a sample size n \n",
    "n = 2 \n",
    "\n",
    "# Use itertools.combinations() to generate and print a list of combinations\n",
    "combs = list(itertools.combinations(pumpkin_dict, n))\n",
    "print(combs)\n",
    "\n",
    "# Using 2 samples, we can see 15 possible combinations as below:\n",
    "# [('A', 'B'), ('A', 'C'), ('A', 'D'), ('A', 'E'), ('A', 'F'), ('B', 'C'), ('B', 'D'), \n",
    "#  ('B', 'E'), ('B', 'F'), ('C', 'D'), ('C', 'E'), ('C', 'F'), ('D', 'E'), ('D', 'F'), \n",
    "#  ('E', 'F')]\n"
   ]
  },
  {
   "cell_type": "markdown",
   "metadata": {},
   "source": [
    "Great! We can now generate any number of combinations from the population (try changing the value of `n` above). The next step in the process is to calculate the mean of all possible combinations and study whether these means differ from the population mean, and whether sample size has any effect on estimating the population mean. \n",
    "\n",
    "Let's write a function that would include the code for generating combinations as above and also for identifying the mean for each sample. "
   ]
  },
  {
   "cell_type": "code",
   "execution_count": 121,
   "metadata": {},
   "outputs": [
    {
     "name": "stdout",
     "output_type": "stream",
     "text": [
      "Using 2 samples, we can see 15 possible combinations as below: \n",
      "    The mean of all sample means mu_x_hat is: 14.0\n",
      "('A', 'B')    16.5\n",
      "('A', 'C')    17.0\n",
      "('A', 'D')    14.0\n",
      "('A', 'E')    14.5\n",
      "('A', 'F')    18.0\n",
      "('B', 'C')    14.5\n",
      "('B', 'D')    11.5\n",
      "('B', 'E')    12.0\n",
      "('B', 'F')    15.5\n",
      "('C', 'D')    12.0\n",
      "('C', 'E')    12.5\n",
      "('C', 'F')    16.0\n",
      "('D', 'E')    9.5\n",
      "('D', 'F')    13.0\n",
      "('E', 'F')    13.5\n"
     ]
    }
   ],
   "source": [
    "\n",
    "def sample_means(sample_size, data):\n",
    "\n",
    "    \"\"\"\n",
    "    This function takes in population data as a dictionary along with a chosen sample size \n",
    "    to generate all possible combinations of given sample size. \n",
    "    The function calculates the mean of each sample and returns:\n",
    "    a) a list of all combinations ( as tuples ) \n",
    "    b) a list of means for all sample\n",
    "    \"\"\"\n",
    "\n",
    "    n = sample_size\n",
    "    \n",
    "    \n",
    "    \n",
    "    # Calculate the mean of population\n",
    "    mu = calculate_mu(data)\n",
    "    \n",
    "   \n",
    "    #print (\"Mean of population is:\", mu)\n",
    "\n",
    "    # Generate all possible combinations using given sample size\n",
    "    \n",
    "    combs = list(itertools.combinations(data, n))\n",
    "    print(f\"\"\"Using {n} samples, we can see {len(combs)} possible combinations as below: \n",
    "    The mean of all sample means mu_x_hat is: {mu}\"\"\")\n",
    "\n",
    "    # Calculate the mean weight (x_bar) for all the combinations (samples) \n",
    "    # using the given data\n",
    "    \n",
    "    x_bar_list = []\n",
    "    for item in combs:\n",
    "        s = 0\n",
    "        for c, i in enumerate(item):\n",
    "            s += data[i]\n",
    "        x_bar_list.append(s/n)\n",
    "        \n",
    "        \n",
    "\n",
    "    \n",
    "\n",
    "    # Calculate sample mean for all combinations and append to x_bar_list\n",
    " \n",
    "    \n",
    "    return combs, x_bar_list\n",
    "\n",
    "n = 2 #Sample size\n",
    "\n",
    "combs, means = sample_means(n, pumpkin_dict)\n",
    "\n",
    "\n",
    "# Print the sample combinations with their means\n",
    "for item in range(len(means)):\n",
    "    print(combs[item], \"  \", means[item])\n",
    "\n",
    "\n",
    "# Using 2 samples, we can see 15 possible combinations as below:\n",
    "# The mean of all sample means mu_x_hat is: 14.0\n",
    "# ('A', 'B') 16.5\n",
    "# ('A', 'C') 17.0\n",
    "# ('A', 'D') 14.0\n",
    "# ('A', 'E') 14.5\n",
    "# ('A', 'F') 18.0\n",
    "# ('B', 'C') 14.5\n",
    "# ('B', 'D') 11.5\n",
    "# ('B', 'E') 12.0\n",
    "# ('B', 'F') 15.5\n",
    "# ('C', 'D') 12.0\n",
    "# ('C', 'E') 12.5\n",
    "# ('C', 'F') 16.0\n",
    "# ('D', 'E') 9.5\n",
    "# ('D', 'F') 13.0\n",
    "# ('E', 'F') 13.5\n",
    "# The mean of all sample means mu_x_hat is: 14.0"
   ]
  },
  {
   "cell_type": "markdown",
   "metadata": {},
   "source": [
    "Thus, even though each sample may give you an answer involving some error, the expected value is right at the target: exactly the population mean. In other words: \n",
    ">If one does the experiment over and over again, the overall average of the sample mean is exactly the population mean.\n",
    "\n",
    "In the output above, we can see that some mean values i.e. 14.5, 12, are being repeated in the combinations. We can develop a frequency table to identify the probability of seeing a different mean value. "
   ]
  },
  {
   "cell_type": "code",
   "execution_count": 122,
   "metadata": {},
   "outputs": [
    {
     "name": "stdout",
     "output_type": "stream",
     "text": [
      "Using 2 samples, we can see 15 possible combinations as below: \n",
      "    The mean of all sample means mu_x_hat is: 14.0\n",
      "('A', 'B')   16.5   1/15\n",
      "('A', 'C')   17.0   1/15\n",
      "('A', 'D')   14.0   1/15\n",
      "('A', 'E')   14.5   2/15\n",
      "('A', 'F')   18.0   1/15\n",
      "('B', 'C')   14.5   2/15\n",
      "('B', 'D')   11.5   1/15\n",
      "('B', 'E')   12.0   2/15\n",
      "('B', 'F')   15.5   1/15\n",
      "('C', 'D')   12.0   2/15\n",
      "('C', 'E')   12.5   1/15\n",
      "('C', 'F')   16.0   1/15\n",
      "('D', 'E')   9.5   1/15\n",
      "('D', 'F')   13.0   1/15\n",
      "('E', 'F')   13.5   1/15\n"
     ]
    }
   ],
   "source": [
    "def calculate_probability(means):\n",
    "    '''\n",
    "    Input: a list of means (x_hats)\n",
    "    Output: a list of probablitity of each mean value\n",
    "    '''\n",
    "    #Calculate the frequency of each mean value\n",
    "    freq = Counter(means)\n",
    "    \n",
    "    l = len(means)\n",
    "    prob = {}\n",
    "    for item in freq:\n",
    "        prob[item] = freq[item]/l\n",
    "    # Calculate and append fequency of each mean value in the prob list. \n",
    "\n",
    "    return prob\n",
    "\n",
    "n = 2 #Sample size\n",
    "\n",
    "combs, means = sample_means(n, pumpkin_dict)\n",
    "\n",
    "probs = calculate_probability(means)\n",
    "\n",
    "for i, item in enumerate(means):\n",
    "    print(combs[i], \" \", item, \" \", \n",
    "          str(Fraction(probs[item]).limit_denominator()))\n",
    "    \n",
    "    \n",
    "\n",
    "# Print combinations with sample means and probability of each mean value\n",
    "\n",
    "\n",
    "# ('A', 'B') 16.5 1/15\n",
    "# ('A', 'C') 17.0 1/15\n",
    "# ('A', 'D') 14.0 1/15\n",
    "# ('A', 'E') 14.5 2/15\n",
    "# ('A', 'F') 18.0 1/15\n",
    "# ('B', 'C') 14.5 2/15\n",
    "# ('B', 'D') 11.5 1/15\n",
    "# ('B', 'E') 12.0 2/15\n",
    "# ('B', 'F') 15.5 1/15\n",
    "# ('C', 'D') 12.0 2/15\n",
    "# ('C', 'E') 12.5 1/15\n",
    "# ('C', 'F') 16.0 1/15\n",
    "# ('D', 'E') 9.5 1/15\n",
    "# ('D', 'F') 13.0 1/15\n",
    "# ('E', 'F') 13.5 1/15\n"
   ]
  },
  {
   "cell_type": "markdown",
   "metadata": {},
   "source": [
    "Here, we see that the chance that the sample mean is exactly the population mean (i.e. 14) is only 1 in 15 (row 3), very small. It may also happen that the sample mean can never be the same value as the population mean. \n",
    "\n",
    "The difference between the sample mean and the population mean is known as the **Sampling Error**.  \n",
    "\n",
    ">When using the sample mean to estimate the population mean, some possible error will be involved since random sample means are also random.\n",
    "\n",
    "## Sample size and sampling error: \n",
    "\n",
    "Sample means cluster more closely around the population mean as the sample size increases. Thus, sampling error decreases as sample size increases."
   ]
  },
  {
   "cell_type": "markdown",
   "metadata": {},
   "source": [
    "Let's repeat the above exercise while increasing the sample size from 2 to 5. "
   ]
  },
  {
   "cell_type": "code",
   "execution_count": 123,
   "metadata": {},
   "outputs": [
    {
     "name": "stdout",
     "output_type": "stream",
     "text": [
      "Using 5 samples, we can see 6 possible combinations as below: \n",
      "    The mean of all sample means mu_x_hat is: 14.0\n",
      "('A', 'B', 'C', 'D', 'E')   13.4   1/6\n",
      "('A', 'B', 'C', 'D', 'F')   14.8   1/6\n",
      "('A', 'B', 'C', 'E', 'F')   15.0   1/6\n",
      "('A', 'B', 'D', 'E', 'F')   13.8   1/6\n",
      "('A', 'C', 'D', 'E', 'F')   14.0   1/6\n",
      "('B', 'C', 'D', 'E', 'F')   13.0   1/6\n"
     ]
    }
   ],
   "source": [
    "n = 5\n",
    "\n",
    "combs, means = sample_means(n, pumpkin_dict)\n",
    "\n",
    "probs = calculate_probability(means)\n",
    "\n",
    "for i, item in enumerate(means):\n",
    "    print(combs[i], \" \", item, \" \", \n",
    "          str(Fraction(probs[item]).limit_denominator()))\n",
    "    \n",
    "# Use above functions to generate combinations as samples with means and calculate the probability of seeing\n",
    "# each mean value  with sample size = 5.\n",
    "\n",
    "# Using 5 samples with a population of size, we can see 6 possible combinations \n",
    "# The mean of all sample means mu_x_hat is: 14.0\n",
    "# 1 ('A', 'B', 'C', 'D', 'E') 13.4 1/6\n",
    "# 2 ('A', 'B', 'C', 'D', 'F') 14.8 1/6\n",
    "# 3 ('A', 'B', 'C', 'E', 'F') 15.0 1/6\n",
    "# 4 ('A', 'B', 'D', 'E', 'F') 13.8 1/6\n",
    "# 5 ('A', 'C', 'D', 'E', 'F') 14.0 1/6\n",
    "# 6 ('B', 'C', 'D', 'E', 'F') 13.0 1/6\n"
   ]
  },
  {
   "cell_type": "markdown",
   "metadata": {},
   "source": [
    "Again, we see that using the sample mean to estimate the population mean involves sampling error. Sample means do not fully agree with the population mean. The mean of sample means, however, is still 14. "
   ]
  },
  {
   "cell_type": "markdown",
   "metadata": {},
   "source": [
    "In order to fully appreciate the impact of sample size on estimating the population mean, let's try to visualize sample means and how the spread of values change when changing sample size. \n",
    "\n",
    "In a loop, run the above experiment with sample sizes ranging from 1 to 5 and measure and visualize the spread of values around the population mean. "
   ]
  },
  {
   "cell_type": "code",
   "execution_count": 124,
   "metadata": {},
   "outputs": [
    {
     "name": "stdout",
     "output_type": "stream",
     "text": [
      "Using 1 samples, we can see 6 possible combinations as below: \n",
      "    The mean of all sample means mu_x_hat is: 14.0\n",
      "Using 2 samples, we can see 15 possible combinations as below: \n",
      "    The mean of all sample means mu_x_hat is: 14.0\n",
      "Using 3 samples, we can see 20 possible combinations as below: \n",
      "    The mean of all sample means mu_x_hat is: 14.0\n",
      "Using 4 samples, we can see 15 possible combinations as below: \n",
      "    The mean of all sample means mu_x_hat is: 14.0\n",
      "Using 5 samples, we can see 6 possible combinations as below: \n",
      "    The mean of all sample means mu_x_hat is: 14.0\n"
     ]
    },
    {
     "data": {
      "image/png": "[encoded data removed]",
      "text/plain": [
       "<Figure size 1080x720 with 1 Axes>"
      ]
     },
     "metadata": {
      "needs_background": "light"
     },
     "output_type": "display_data"
    }
   ],
   "source": [
    "# Run a for loop to execute above code for sample size 1 to 5 and visualise the \n",
    "# spread of sample means\n",
    "\n",
    "plt.figure(figsize = (15, 10))\n",
    "plt.axvline(x = mu, label = \"Population Mean\")\n",
    "\n",
    "for n in range(1,6):\n",
    "    combs, means = sample_means(n, pumpkin_dict)\n",
    "    probs = calculate_probability(means)\n",
    "    y_axis = np.ones(len(means)) * n\n",
    "    plt.scatter(means, y_axis, marker='*', label = (\"Sample Size: \", str(n)))\n",
    "    plt.legend()\n",
    "plt.show()    \n",
    "\n",
    "\n",
    "# Using 1 samples with a population of size, we can see 6 possible combinations \n",
    "# The mean of all sample means mu_x_hat is: 14.0\n",
    "\n",
    "# Using 2 samples with a population of size, we can see 15 possible combinations \n",
    "# The mean of all sample means mu_x_hat is: 14.0\n",
    "\n",
    "# Using 3 samples with a population of size, we can see 20 possible combinations \n",
    "# The mean of all sample means mu_x_hat is: 14.0\n",
    "\n",
    "# Using 4 samples with a population of size, we can see 15 possible combinations \n",
    "# The mean of all sample means mu_x_hat is: 14.0\n",
    "\n",
    "# Using 5 samples with a population of size, we can see 6 possible combinations \n",
    "# The mean of all sample means mu_x_hat is: 14.0"
   ]
  },
  {
   "cell_type": "code",
   "execution_count": null,
   "metadata": {},
   "outputs": [],
   "source": [
    "### From GitHub\n",
    "\n",
    "# plt.figure(figsize=(15,10))\n",
    "\n",
    "# plt.axvline(x=mu, label = \"Population mean\")\n",
    "\n",
    "# # Run a for loop to execute above code for sample size 1 to 5 and visualise the spread of sample \n",
    "# # means\n",
    "# for n in (1,2,3,4,5):\n",
    "#     combs, means = sample_means(n, pumpkin_dict)\n",
    "#     probs = calculate_probability(means)\n",
    "#     val = n # this is the value where you want the data to appear on the y-axis.\n",
    "#     ar = np.arange(10) # just as an example array\n",
    "#     plt.plot(means, np.zeros_like(means) + val, 'x', label =(\"Sample size: \"+ str(n)))\n",
    "#     plt.legend()\n",
    "\n",
    "\n",
    "# plt.show()"
   ]
  },
  {
   "cell_type": "markdown",
   "metadata": {},
   "source": [
    "We can see that with increasing sample size, the **spread** of sample means is reduced and the sample mean values tend to come closer to the population mean."
   ]
  },
  {
   "cell_type": "markdown",
   "metadata": {},
   "source": [
    "## Step 3: Calculate the standard error\n",
    "\n",
    "### So what is standard error?\n",
    "\n",
    "The **_Standard Error (SE)_** is very similar to the standard deviation. Both are measures of spread. The higher the number, the more spread out your data is. To put it simply, the two terms are essentially equal — but there is one important difference. While the standard error uses statistics (sample data), standard deviations use parameters (population data). We achieve this by dividing the standard deviation by the square root of the sample size.\n",
    "\n",
    "The calculation for the standard error of the sample mean is:\n",
    "\n",
    "## $$ \\sigma_{\\bar{x}} = \\frac{\\sigma}{\\sqrt{n}} \\approx \\frac{s}{\\sqrt{n}}$$\n",
    "\n",
    "Here, $\\sigma$ is the population standard deviation (which we will approximate with the sample standard deviation $s$) and $n$ is the sample size.\n",
    "\n",
    "Let's run the above block of code again and calculate the standard error according to the chosen sample size"
   ]
  },
  {
   "cell_type": "code",
   "execution_count": 130,
   "metadata": {},
   "outputs": [
    {
     "name": "stdout",
     "output_type": "stream",
     "text": [
      "Using 1 samples, we can see 6 possible combinations as below: \n",
      "    The mean of all sample means mu_x_hat is: 14.0\n",
      "Using 2 samples, we can see 15 possible combinations as below: \n",
      "    The mean of all sample means mu_x_hat is: 14.0\n",
      "Using 3 samples, we can see 20 possible combinations as below: \n",
      "    The mean of all sample means mu_x_hat is: 14.0\n",
      "Using 4 samples, we can see 15 possible combinations as below: \n",
      "    The mean of all sample means mu_x_hat is: 14.0\n",
      "Using 5 samples, we can see 6 possible combinations as below: \n",
      "    The mean of all sample means mu_x_hat is: 14.0\n"
     ]
    },
    {
     "data": {
      "image/png": "[encoded data removed]",
      "text/plain": [
       "<Figure size 1080x720 with 1 Axes>"
      ]
     },
     "metadata": {
      "needs_background": "light"
     },
     "output_type": "display_data"
    }
   ],
   "source": [
    "# Create empty lists for storing sample means, \n",
    "# combinations and standard error for each iteration\n",
    "\n",
    "plt.figure(figsize = (15, 10))\n",
    "plt.axvline(x = mu, label = \"Population Mean\")\n",
    "\n",
    "means_list = []\n",
    "combs_list = []\n",
    "err_list = []\n",
    "# Create a for loop with changing sample sizes\n",
    "\n",
    "for n in range(1,6):\n",
    "    \n",
    "    # Calculate combinations, means as earlier, append to relevant lists\n",
    "    combs, means = sample_means(n, pumpkin_dict)\n",
    "    \n",
    "    combs_list.append(combs)\n",
    "    means_list.append(means)\n",
    "    \n",
    "#     probs = calculate_probability(means)\n",
    " \n",
    "    # Calculate and append the standard error by dividing sample means with \n",
    "    # square root of sample size\n",
    "    err = np.round(np.std(means)/np.sqrt(n), 2)\n",
    "    err_list.append(err)\n",
    "\n",
    "    # Visualize sample spread and standard error values for each sample\n",
    "    lab = \"Sample size: \"+ str(n) + \" , Standard Error: \"+ str(err)\n",
    "    y_axis = np.ones(len(means)) * n\n",
    "    plt.scatter(means, y_axis, marker='*', label = lab)\n",
    "    plt.legend()\n",
    "    \n",
    "plt.show()     "
   ]
  },
  {
   "cell_type": "markdown",
   "metadata": {},
   "source": [
    "Thus, even though each sample may give you an answer involving some error, the expected value is right at the target: exactly the population mean. In other words, if one does the experiment over and over again, the overall average of the sample mean is exactly the population mean. If the sample size is increased, the standard error is reduced. \n",
    "\n",
    "According to the **Central Limit Theorem**, for a large sample size, `x_hat` is approximately normally distributed, regardless of the distribution of the population one samples from.\n",
    "\n",
    "## Summary\n",
    "\n",
    "In this lab, we saw how sampling statistics relate to population statistics. In order to estimate a population parameter (i.e. mean) with a high level of accuracy, We must reduce the spread or the sample error which is simply the standard deviation of the samples from the sample mean. The size of samples must be set carefully in order to avoid excessive values for standard error to gain a high level of confidence in our population estimates. "
   ]
  }
 ],
 "metadata": {
  "kernelspec": {
   "display_name": "Python 3",
   "language": "python",
   "name": "python3"
  },
  "language_info": {
   "codemirror_mode": {
    "name": "ipython",
    "version": 3
   },
   "file_extension": ".py",
   "mimetype": "text/x-python",
   "name": "python",
   "nbconvert_exporter": "python",
   "pygments_lexer": "ipython3",
   "version": "3.8.5"
  },
  "latex_envs": {
   "LaTeX_envs_menu_present": true,
   "autoclose": false,
   "autocomplete": true,
   "bibliofile": "biblio.bib",
   "cite_by": "apalike",
   "current_citInitial": 1,
   "eqLabelWithNumbers": true,
   "eqNumInitial": 1,
   "hotkeys": {
    "equation": "Ctrl-E",
    "itemize": "Ctrl-I"
   },
   "labels_anchors": false,
   "latex_user_defs": false,
   "report_style_numbering": false,
   "user_envs_cfg": false
  },
  "toc": {
   "base_numbering": 1,
   "nav_menu": {},
   "number_sections": true,
   "sideBar": true,
   "skip_h1_title": false,
   "title_cell": "Table of Contents",
   "title_sidebar": "Contents",
   "toc_cell": false,
   "toc_position": {},
   "toc_section_display": true,
   "toc_window_display": false
  },
  "varInspector": {
   "cols": {
    "lenName": 16,
    "lenType": 16,
    "lenVar": 40
   },
   "kernels_config": {
    "python": {
     "delete_cmd_postfix": "",
     "delete_cmd_prefix": "del ",
     "library": "var_list.py",
     "varRefreshCmd": "print(var_dic_list())"
    },
    "r": {
     "delete_cmd_postfix": ") ",
     "delete_cmd_prefix": "rm(",
     "library": "var_list.r",
     "varRefreshCmd": "cat(var_dic_list()) "
    }
   },
   "types_to_exclude": [
    "module",
    "function",
    "builtin_function_or_method",
    "instance",
    "_Feature"
   ],
   "window_display": false
  }
 },
 "nbformat": 4,
 "nbformat_minor": 2
}
